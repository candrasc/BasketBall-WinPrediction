{
 "cells": [
  {
   "cell_type": "code",
   "execution_count": 114,
   "metadata": {},
   "outputs": [],
   "source": [
    "import pandas as pd\n",
    "pd.set_option('display.max_columns', None)\n",
    "import numpy as np\n",
    "from matplotlib import pyplot as plt\n",
    "import seaborn as sns\n",
    "from scipy import stats\n",
    "\n",
    "plt.style.use('fivethirtyeight')"
   ]
  },
  {
   "cell_type": "code",
   "execution_count": 84,
   "metadata": {},
   "outputs": [
    {
     "data": {
      "text/html": [
       "<div>\n",
       "<style scoped>\n",
       "    .dataframe tbody tr th:only-of-type {\n",
       "        vertical-align: middle;\n",
       "    }\n",
       "\n",
       "    .dataframe tbody tr th {\n",
       "        vertical-align: top;\n",
       "    }\n",
       "\n",
       "    .dataframe thead th {\n",
       "        text-align: right;\n",
       "    }\n",
       "</style>\n",
       "<table border=\"1\" class=\"dataframe\">\n",
       "  <thead>\n",
       "    <tr style=\"text-align: right;\">\n",
       "      <th></th>\n",
       "      <th>GAME_DATE_EST</th>\n",
       "      <th>GAME_ID</th>\n",
       "      <th>GAME_STATUS_TEXT</th>\n",
       "      <th>HOME_TEAM_ID</th>\n",
       "      <th>VISITOR_TEAM_ID</th>\n",
       "      <th>SEASON</th>\n",
       "      <th>TEAM_ID_home</th>\n",
       "      <th>PTS_home</th>\n",
       "      <th>FG_PCT_home</th>\n",
       "      <th>FT_PCT_home</th>\n",
       "      <th>...</th>\n",
       "      <th>AST_home</th>\n",
       "      <th>REB_home</th>\n",
       "      <th>TEAM_ID_away</th>\n",
       "      <th>PTS_away</th>\n",
       "      <th>FG_PCT_away</th>\n",
       "      <th>FT_PCT_away</th>\n",
       "      <th>FG3_PCT_away</th>\n",
       "      <th>AST_away</th>\n",
       "      <th>REB_away</th>\n",
       "      <th>HOME_TEAM_WINS</th>\n",
       "    </tr>\n",
       "  </thead>\n",
       "  <tbody>\n",
       "    <tr>\n",
       "      <th>0</th>\n",
       "      <td>2020-03-01</td>\n",
       "      <td>21900895</td>\n",
       "      <td>Final</td>\n",
       "      <td>1610612766</td>\n",
       "      <td>1610612749</td>\n",
       "      <td>2019</td>\n",
       "      <td>1610612766</td>\n",
       "      <td>85.0</td>\n",
       "      <td>0.354</td>\n",
       "      <td>0.900</td>\n",
       "      <td>...</td>\n",
       "      <td>22.0</td>\n",
       "      <td>47.0</td>\n",
       "      <td>1610612749</td>\n",
       "      <td>93.0</td>\n",
       "      <td>0.402</td>\n",
       "      <td>0.762</td>\n",
       "      <td>0.226</td>\n",
       "      <td>20.0</td>\n",
       "      <td>61.0</td>\n",
       "      <td>0</td>\n",
       "    </tr>\n",
       "    <tr>\n",
       "      <th>1</th>\n",
       "      <td>2020-03-01</td>\n",
       "      <td>21900896</td>\n",
       "      <td>Final</td>\n",
       "      <td>1610612750</td>\n",
       "      <td>1610612742</td>\n",
       "      <td>2019</td>\n",
       "      <td>1610612750</td>\n",
       "      <td>91.0</td>\n",
       "      <td>0.364</td>\n",
       "      <td>0.400</td>\n",
       "      <td>...</td>\n",
       "      <td>19.0</td>\n",
       "      <td>57.0</td>\n",
       "      <td>1610612742</td>\n",
       "      <td>111.0</td>\n",
       "      <td>0.468</td>\n",
       "      <td>0.632</td>\n",
       "      <td>0.275</td>\n",
       "      <td>28.0</td>\n",
       "      <td>56.0</td>\n",
       "      <td>0</td>\n",
       "    </tr>\n",
       "    <tr>\n",
       "      <th>2</th>\n",
       "      <td>2020-03-01</td>\n",
       "      <td>21900897</td>\n",
       "      <td>Final</td>\n",
       "      <td>1610612746</td>\n",
       "      <td>1610612755</td>\n",
       "      <td>2019</td>\n",
       "      <td>1610612746</td>\n",
       "      <td>136.0</td>\n",
       "      <td>0.592</td>\n",
       "      <td>0.805</td>\n",
       "      <td>...</td>\n",
       "      <td>25.0</td>\n",
       "      <td>37.0</td>\n",
       "      <td>1610612755</td>\n",
       "      <td>130.0</td>\n",
       "      <td>0.505</td>\n",
       "      <td>0.650</td>\n",
       "      <td>0.488</td>\n",
       "      <td>27.0</td>\n",
       "      <td>37.0</td>\n",
       "      <td>1</td>\n",
       "    </tr>\n",
       "    <tr>\n",
       "      <th>3</th>\n",
       "      <td>2020-03-01</td>\n",
       "      <td>21900898</td>\n",
       "      <td>Final</td>\n",
       "      <td>1610612743</td>\n",
       "      <td>1610612761</td>\n",
       "      <td>2019</td>\n",
       "      <td>1610612743</td>\n",
       "      <td>133.0</td>\n",
       "      <td>0.566</td>\n",
       "      <td>0.700</td>\n",
       "      <td>...</td>\n",
       "      <td>38.0</td>\n",
       "      <td>41.0</td>\n",
       "      <td>1610612761</td>\n",
       "      <td>118.0</td>\n",
       "      <td>0.461</td>\n",
       "      <td>0.897</td>\n",
       "      <td>0.263</td>\n",
       "      <td>24.0</td>\n",
       "      <td>36.0</td>\n",
       "      <td>1</td>\n",
       "    </tr>\n",
       "    <tr>\n",
       "      <th>4</th>\n",
       "      <td>2020-03-01</td>\n",
       "      <td>21900899</td>\n",
       "      <td>Final</td>\n",
       "      <td>1610612758</td>\n",
       "      <td>1610612765</td>\n",
       "      <td>2019</td>\n",
       "      <td>1610612758</td>\n",
       "      <td>106.0</td>\n",
       "      <td>0.407</td>\n",
       "      <td>0.885</td>\n",
       "      <td>...</td>\n",
       "      <td>18.0</td>\n",
       "      <td>51.0</td>\n",
       "      <td>1610612765</td>\n",
       "      <td>100.0</td>\n",
       "      <td>0.413</td>\n",
       "      <td>0.667</td>\n",
       "      <td>0.429</td>\n",
       "      <td>23.0</td>\n",
       "      <td>42.0</td>\n",
       "      <td>1</td>\n",
       "    </tr>\n",
       "  </tbody>\n",
       "</table>\n",
       "<p>5 rows × 21 columns</p>\n",
       "</div>"
      ],
      "text/plain": [
       "  GAME_DATE_EST   GAME_ID GAME_STATUS_TEXT  HOME_TEAM_ID  VISITOR_TEAM_ID  \\\n",
       "0    2020-03-01  21900895            Final    1610612766       1610612749   \n",
       "1    2020-03-01  21900896            Final    1610612750       1610612742   \n",
       "2    2020-03-01  21900897            Final    1610612746       1610612755   \n",
       "3    2020-03-01  21900898            Final    1610612743       1610612761   \n",
       "4    2020-03-01  21900899            Final    1610612758       1610612765   \n",
       "\n",
       "   SEASON  TEAM_ID_home  PTS_home  FG_PCT_home  FT_PCT_home  ...  AST_home  \\\n",
       "0    2019    1610612766      85.0        0.354        0.900  ...      22.0   \n",
       "1    2019    1610612750      91.0        0.364        0.400  ...      19.0   \n",
       "2    2019    1610612746     136.0        0.592        0.805  ...      25.0   \n",
       "3    2019    1610612743     133.0        0.566        0.700  ...      38.0   \n",
       "4    2019    1610612758     106.0        0.407        0.885  ...      18.0   \n",
       "\n",
       "   REB_home  TEAM_ID_away  PTS_away  FG_PCT_away  FT_PCT_away  FG3_PCT_away  \\\n",
       "0      47.0    1610612749      93.0        0.402        0.762         0.226   \n",
       "1      57.0    1610612742     111.0        0.468        0.632         0.275   \n",
       "2      37.0    1610612755     130.0        0.505        0.650         0.488   \n",
       "3      41.0    1610612761     118.0        0.461        0.897         0.263   \n",
       "4      51.0    1610612765     100.0        0.413        0.667         0.429   \n",
       "\n",
       "   AST_away  REB_away  HOME_TEAM_WINS  \n",
       "0      20.0      61.0               0  \n",
       "1      28.0      56.0               0  \n",
       "2      27.0      37.0               1  \n",
       "3      24.0      36.0               1  \n",
       "4      23.0      42.0               1  \n",
       "\n",
       "[5 rows x 21 columns]"
      ]
     },
     "execution_count": 84,
     "metadata": {},
     "output_type": "execute_result"
    }
   ],
   "source": [
    "#Bring in our data\n",
    "game_details = pd.read_csv(r'C:\\Users\\charl\\Python\\GitHub Projects\\BasketBall-WinPrediction\\data\\games_details.csv')\n",
    "games = pd.read_csv(r'C:\\Users\\charl\\Python\\GitHub Projects\\BasketBall-WinPrediction\\data\\games.csv')\n",
    "players = pd.read_csv(r'C:\\Users\\charl\\Python\\GitHub Projects\\BasketBall-WinPrediction\\data\\players.csv')\n",
    "ranking = pd.read_csv(r'C:\\Users\\charl\\Python\\GitHub Projects\\BasketBall-WinPrediction\\data\\ranking.csv')\n",
    "teams = pd.read_csv(r'C:\\Users\\charl\\Python\\GitHub Projects\\BasketBall-WinPrediction\\data\\teams.csv')\n",
    "pd.options.display.width = 0\n",
    "games.head()"
   ]
  },
  {
   "cell_type": "code",
   "execution_count": 85,
   "metadata": {},
   "outputs": [
    {
     "data": {
      "text/html": [
       "<div>\n",
       "<style scoped>\n",
       "    .dataframe tbody tr th:only-of-type {\n",
       "        vertical-align: middle;\n",
       "    }\n",
       "\n",
       "    .dataframe tbody tr th {\n",
       "        vertical-align: top;\n",
       "    }\n",
       "\n",
       "    .dataframe thead th {\n",
       "        text-align: right;\n",
       "    }\n",
       "</style>\n",
       "<table border=\"1\" class=\"dataframe\">\n",
       "  <thead>\n",
       "    <tr style=\"text-align: right;\">\n",
       "      <th></th>\n",
       "      <th>GAME_DATE_EST</th>\n",
       "      <th>GAME_ID</th>\n",
       "      <th>HOME_TEAM_ID</th>\n",
       "      <th>VISITOR_TEAM_ID</th>\n",
       "      <th>SEASON</th>\n",
       "      <th>PTS_home</th>\n",
       "      <th>FG_PCT_home</th>\n",
       "      <th>FT_PCT_home</th>\n",
       "      <th>FG3_PCT_home</th>\n",
       "      <th>AST_home</th>\n",
       "      <th>REB_home</th>\n",
       "      <th>PTS_away</th>\n",
       "      <th>FG_PCT_away</th>\n",
       "      <th>FT_PCT_away</th>\n",
       "      <th>FG3_PCT_away</th>\n",
       "      <th>AST_away</th>\n",
       "      <th>REB_away</th>\n",
       "      <th>HOME_TEAM_WINS</th>\n",
       "      <th>ABV_HOME</th>\n",
       "      <th>ABV_AWAY</th>\n",
       "    </tr>\n",
       "  </thead>\n",
       "  <tbody>\n",
       "    <tr>\n",
       "      <th>0</th>\n",
       "      <td>2020-03-01</td>\n",
       "      <td>21900895</td>\n",
       "      <td>1610612766</td>\n",
       "      <td>1610612749</td>\n",
       "      <td>2019</td>\n",
       "      <td>85.0</td>\n",
       "      <td>0.354</td>\n",
       "      <td>0.900</td>\n",
       "      <td>0.229</td>\n",
       "      <td>22.0</td>\n",
       "      <td>47.0</td>\n",
       "      <td>93.0</td>\n",
       "      <td>0.402</td>\n",
       "      <td>0.762</td>\n",
       "      <td>0.226</td>\n",
       "      <td>20.0</td>\n",
       "      <td>61.0</td>\n",
       "      <td>0</td>\n",
       "      <td>CHA</td>\n",
       "      <td>MIL</td>\n",
       "    </tr>\n",
       "    <tr>\n",
       "      <th>1</th>\n",
       "      <td>2020-01-24</td>\n",
       "      <td>21900669</td>\n",
       "      <td>1610612766</td>\n",
       "      <td>1610612749</td>\n",
       "      <td>2019</td>\n",
       "      <td>103.0</td>\n",
       "      <td>0.372</td>\n",
       "      <td>0.833</td>\n",
       "      <td>0.359</td>\n",
       "      <td>24.0</td>\n",
       "      <td>39.0</td>\n",
       "      <td>116.0</td>\n",
       "      <td>0.506</td>\n",
       "      <td>0.750</td>\n",
       "      <td>0.278</td>\n",
       "      <td>26.0</td>\n",
       "      <td>53.0</td>\n",
       "      <td>0</td>\n",
       "      <td>CHA</td>\n",
       "      <td>MIL</td>\n",
       "    </tr>\n",
       "    <tr>\n",
       "      <th>2</th>\n",
       "      <td>2013-12-23</td>\n",
       "      <td>21300407</td>\n",
       "      <td>1610612766</td>\n",
       "      <td>1610612749</td>\n",
       "      <td>2013</td>\n",
       "      <td>111.0</td>\n",
       "      <td>0.434</td>\n",
       "      <td>0.750</td>\n",
       "      <td>0.588</td>\n",
       "      <td>30.0</td>\n",
       "      <td>43.0</td>\n",
       "      <td>110.0</td>\n",
       "      <td>0.433</td>\n",
       "      <td>0.941</td>\n",
       "      <td>0.357</td>\n",
       "      <td>29.0</td>\n",
       "      <td>51.0</td>\n",
       "      <td>1</td>\n",
       "      <td>CHA</td>\n",
       "      <td>MIL</td>\n",
       "    </tr>\n",
       "    <tr>\n",
       "      <th>3</th>\n",
       "      <td>2013-11-29</td>\n",
       "      <td>21300228</td>\n",
       "      <td>1610612766</td>\n",
       "      <td>1610612749</td>\n",
       "      <td>2013</td>\n",
       "      <td>92.0</td>\n",
       "      <td>0.443</td>\n",
       "      <td>0.613</td>\n",
       "      <td>0.200</td>\n",
       "      <td>20.0</td>\n",
       "      <td>54.0</td>\n",
       "      <td>76.0</td>\n",
       "      <td>0.333</td>\n",
       "      <td>0.750</td>\n",
       "      <td>0.294</td>\n",
       "      <td>17.0</td>\n",
       "      <td>38.0</td>\n",
       "      <td>1</td>\n",
       "      <td>CHA</td>\n",
       "      <td>MIL</td>\n",
       "    </tr>\n",
       "    <tr>\n",
       "      <th>4</th>\n",
       "      <td>2013-04-13</td>\n",
       "      <td>21201190</td>\n",
       "      <td>1610612766</td>\n",
       "      <td>1610612749</td>\n",
       "      <td>2012</td>\n",
       "      <td>95.0</td>\n",
       "      <td>0.463</td>\n",
       "      <td>0.708</td>\n",
       "      <td>0.444</td>\n",
       "      <td>23.0</td>\n",
       "      <td>52.0</td>\n",
       "      <td>85.0</td>\n",
       "      <td>0.391</td>\n",
       "      <td>0.667</td>\n",
       "      <td>0.310</td>\n",
       "      <td>23.0</td>\n",
       "      <td>36.0</td>\n",
       "      <td>1</td>\n",
       "      <td>CHA</td>\n",
       "      <td>MIL</td>\n",
       "    </tr>\n",
       "  </tbody>\n",
       "</table>\n",
       "</div>"
      ],
      "text/plain": [
       "  GAME_DATE_EST   GAME_ID  HOME_TEAM_ID  VISITOR_TEAM_ID  SEASON  PTS_home  \\\n",
       "0    2020-03-01  21900895    1610612766       1610612749    2019      85.0   \n",
       "1    2020-01-24  21900669    1610612766       1610612749    2019     103.0   \n",
       "2    2013-12-23  21300407    1610612766       1610612749    2013     111.0   \n",
       "3    2013-11-29  21300228    1610612766       1610612749    2013      92.0   \n",
       "4    2013-04-13  21201190    1610612766       1610612749    2012      95.0   \n",
       "\n",
       "   FG_PCT_home  FT_PCT_home  FG3_PCT_home  AST_home  REB_home  PTS_away  \\\n",
       "0        0.354        0.900         0.229      22.0      47.0      93.0   \n",
       "1        0.372        0.833         0.359      24.0      39.0     116.0   \n",
       "2        0.434        0.750         0.588      30.0      43.0     110.0   \n",
       "3        0.443        0.613         0.200      20.0      54.0      76.0   \n",
       "4        0.463        0.708         0.444      23.0      52.0      85.0   \n",
       "\n",
       "   FG_PCT_away  FT_PCT_away  FG3_PCT_away  AST_away  REB_away  HOME_TEAM_WINS  \\\n",
       "0        0.402        0.762         0.226      20.0      61.0               0   \n",
       "1        0.506        0.750         0.278      26.0      53.0               0   \n",
       "2        0.433        0.941         0.357      29.0      51.0               1   \n",
       "3        0.333        0.750         0.294      17.0      38.0               1   \n",
       "4        0.391        0.667         0.310      23.0      36.0               1   \n",
       "\n",
       "  ABV_HOME ABV_AWAY  \n",
       "0      CHA      MIL  \n",
       "1      CHA      MIL  \n",
       "2      CHA      MIL  \n",
       "3      CHA      MIL  \n",
       "4      CHA      MIL  "
      ]
     },
     "execution_count": 85,
     "metadata": {},
     "output_type": "execute_result"
    }
   ],
   "source": [
    "#Create a smaller table for the purpose of bringing in team abreviations into the games df as it currently only has team ID\n",
    "team_abv = teams[['TEAM_ID','ABBREVIATION']]\n",
    "games_new = games.merge(team_abv,left_on = 'HOME_TEAM_ID', right_on = 'TEAM_ID').merge(team_abv,left_on = 'VISITOR_TEAM_ID', right_on = 'TEAM_ID')\n",
    "games_new.rename(columns={'ABBREVIATION_x':'ABV_HOME',\n",
    "                         'ABBREVIATION_y':'ABV_AWAY'}, \n",
    "                 inplace=True)\n",
    "\n",
    "#Use only the columns we care about as there was some repition amoung columns\n",
    "g = games_new.drop(columns = ['GAME_STATUS_TEXT','TEAM_ID_y','TEAM_ID_home','TEAM_ID_away','TEAM_ID_x'])\n",
    "#Need to filter teams down into just ID and ABV\n",
    "#then join in twice to games for home and vistor ID. Rename abv columns according to home or away\n",
    "games_new.head()\n",
    "g.head()"
   ]
  },
  {
   "cell_type": "markdown",
   "metadata": {},
   "source": [
    "# Visualization\n",
    "\n",
    "Perform some visualization. Some of it is unrelated to the model we are going to build, but it is always interesting to learn a little more about your data "
   ]
  },
  {
   "cell_type": "code",
   "execution_count": 86,
   "metadata": {},
   "outputs": [
    {
     "data": {
      "image/png": "[encoded data removed]",
      "text/plain": [
       "<Figure size 432x288 with 1 Axes>"
      ]
     },
     "metadata": {},
     "output_type": "display_data"
    }
   ],
   "source": [
    "plt.hist('PTS_home',data=g, bins = 50, range= (50,150),alpha = .5, label = 'Home Pts')\n",
    "plt.hist('PTS_away',data=g, bins  =50, range=(50,150),alpha = .5, label = 'Away Pts')\n",
    "plt.title('Home vs Away Point Distribution')\n",
    "plt.xlabel('Points')\n",
    "plt.ylabel('Occurances')\n",
    "plt.legend()\n",
    "\n",
    "home_median = g.PTS_home.median()\n",
    "away_median = g.PTS_away.median()\n",
    "plt.axvline(home_median, color = 'blue')\n",
    "plt.axvline(away_median, color = 'red')\n",
    "\n",
    "plt.show()"
   ]
  },
  {
   "cell_type": "code",
   "execution_count": 87,
   "metadata": {},
   "outputs": [
    {
     "data": {
      "text/plain": [
       "<matplotlib.legend.Legend at 0x1e66ff397c8>"
      ]
     },
     "execution_count": 87,
     "metadata": {},
     "output_type": "execute_result"
    },
    {
     "data": {
      "image/png": "[encoded data removed]",
      "text/plain": [
       "<Figure size 360x360 with 2 Axes>"
      ]
     },
     "metadata": {},
     "output_type": "display_data"
    }
   ],
   "source": [
    "#Group stats by season\n",
    "season_gp = g.groupby('SEASON').mean().reset_index()\n",
    "\n",
    "fig, ax1 = plt.subplots(figsize=(5,5))\n",
    "\n",
    "#Set up a 2nd axis\n",
    "ax2 = ax1.twinx() \n",
    "\n",
    "ax1.plot(season_gp.SEASON, season_gp.PTS_home, color = 'r', label = 'Home Points')\n",
    "plt.title('Average Home Points per Season')\n",
    "\n",
    "ax2.plot(season_gp.SEASON, season_gp.AST_home, label = 'Home Assists')\n",
    "plt.title('Home Points/Assist per Season')\n",
    "\n",
    "ax1.grid(False) #Need to hide one of the gridlines as they don't align\n",
    "\n",
    "ax1.legend()\n",
    "ax2.legend(loc=1)\n",
    "\n",
    "#This isn't relevant to our overall analysis and predictive model, but it is still interesting"
   ]
  },
  {
   "cell_type": "code",
   "execution_count": 88,
   "metadata": {},
   "outputs": [
    {
     "data": {
      "text/plain": [
       "Text(0.5, 1, 'Basic Game Stat Correlations')"
      ]
     },
     "execution_count": 88,
     "metadata": {},
     "output_type": "execute_result"
    },
    {
     "data": {
      "image/png": "[encoded data removed]",
      "text/plain": [
       "<Figure size 1080x1080 with 2 Axes>"
      ]
     },
     "metadata": {},
     "output_type": "display_data"
    }
   ],
   "source": [
    "#Find correlations in the game outcome and stats of THAT game\n",
    "#Basically all below stats have some effect on wins except for free throws\n",
    "plt.figure(figsize=(15,15))\n",
    "sns.heatmap(g.corr(), center = 0, cmap = 'PiYG')\n",
    "plt.title('Basic Game Stat Correlations')"
   ]
  },
  {
   "cell_type": "markdown",
   "metadata": {},
   "source": [
    "# Bring In All Stats for Data Prep\n",
    "\n",
    "We can see that all of these stats except for the descriptive stats (season, game_id etc) and Free Throw Percentage are somewhat significant. We will drop FGP later as a result. \n",
    "\n",
    "Let's add some stats from the game_details df like rebounds \n",
    "\n",
    "To do this we need to take the game_details and group by gameID"
   ]
  },
  {
   "cell_type": "code",
   "execution_count": 136,
   "metadata": {},
   "outputs": [
    {
     "data": {
      "text/html": [
       "<div>\n",
       "<style scoped>\n",
       "    .dataframe tbody tr th:only-of-type {\n",
       "        vertical-align: middle;\n",
       "    }\n",
       "\n",
       "    .dataframe tbody tr th {\n",
       "        vertical-align: top;\n",
       "    }\n",
       "\n",
       "    .dataframe thead th {\n",
       "        text-align: right;\n",
       "    }\n",
       "</style>\n",
       "<table border=\"1\" class=\"dataframe\">\n",
       "  <thead>\n",
       "    <tr style=\"text-align: right;\">\n",
       "      <th></th>\n",
       "      <th>GAME_ID</th>\n",
       "      <th>TEAM_ID</th>\n",
       "      <th>TEAM_ABBREVIATION</th>\n",
       "      <th>TEAM_CITY</th>\n",
       "      <th>PLAYER_ID</th>\n",
       "      <th>PLAYER_NAME</th>\n",
       "      <th>START_POSITION</th>\n",
       "      <th>COMMENT</th>\n",
       "      <th>MIN</th>\n",
       "      <th>FGM</th>\n",
       "      <th>FGA</th>\n",
       "      <th>FG_PCT</th>\n",
       "      <th>FG3M</th>\n",
       "      <th>FG3A</th>\n",
       "      <th>FG3_PCT</th>\n",
       "      <th>FTM</th>\n",
       "      <th>FTA</th>\n",
       "      <th>FT_PCT</th>\n",
       "      <th>OREB</th>\n",
       "      <th>DREB</th>\n",
       "      <th>REB</th>\n",
       "      <th>AST</th>\n",
       "      <th>STL</th>\n",
       "      <th>BLK</th>\n",
       "      <th>TO</th>\n",
       "      <th>PF</th>\n",
       "      <th>PTS</th>\n",
       "      <th>PLUS_MINUS</th>\n",
       "      <th>ABV_HOME</th>\n",
       "      <th>HOME_TEAM_WINS</th>\n",
       "    </tr>\n",
       "  </thead>\n",
       "  <tbody>\n",
       "    <tr>\n",
       "      <th>0</th>\n",
       "      <td>21900895</td>\n",
       "      <td>1610612749</td>\n",
       "      <td>MIL</td>\n",
       "      <td>Milwaukee</td>\n",
       "      <td>202083</td>\n",
       "      <td>Wesley Matthews</td>\n",
       "      <td>F</td>\n",
       "      <td>NaN</td>\n",
       "      <td>27:08</td>\n",
       "      <td>3.0</td>\n",
       "      <td>11.0</td>\n",
       "      <td>0.273</td>\n",
       "      <td>2.0</td>\n",
       "      <td>7.0</td>\n",
       "      <td>0.286</td>\n",
       "      <td>0.0</td>\n",
       "      <td>0.0</td>\n",
       "      <td>0.000</td>\n",
       "      <td>4.0</td>\n",
       "      <td>4.0</td>\n",
       "      <td>8.0</td>\n",
       "      <td>2.0</td>\n",
       "      <td>2.0</td>\n",
       "      <td>0.0</td>\n",
       "      <td>0.0</td>\n",
       "      <td>0.0</td>\n",
       "      <td>8.0</td>\n",
       "      <td>11.0</td>\n",
       "      <td>CHA</td>\n",
       "      <td>0</td>\n",
       "    </tr>\n",
       "    <tr>\n",
       "      <th>1</th>\n",
       "      <td>21900895</td>\n",
       "      <td>1610612749</td>\n",
       "      <td>MIL</td>\n",
       "      <td>Milwaukee</td>\n",
       "      <td>203507</td>\n",
       "      <td>Giannis Antetokounmpo</td>\n",
       "      <td>F</td>\n",
       "      <td>NaN</td>\n",
       "      <td>34:55</td>\n",
       "      <td>17.0</td>\n",
       "      <td>28.0</td>\n",
       "      <td>0.607</td>\n",
       "      <td>1.0</td>\n",
       "      <td>4.0</td>\n",
       "      <td>0.250</td>\n",
       "      <td>6.0</td>\n",
       "      <td>7.0</td>\n",
       "      <td>0.857</td>\n",
       "      <td>2.0</td>\n",
       "      <td>18.0</td>\n",
       "      <td>20.0</td>\n",
       "      <td>6.0</td>\n",
       "      <td>1.0</td>\n",
       "      <td>0.0</td>\n",
       "      <td>3.0</td>\n",
       "      <td>2.0</td>\n",
       "      <td>41.0</td>\n",
       "      <td>22.0</td>\n",
       "      <td>CHA</td>\n",
       "      <td>0</td>\n",
       "    </tr>\n",
       "    <tr>\n",
       "      <th>2</th>\n",
       "      <td>21900895</td>\n",
       "      <td>1610612749</td>\n",
       "      <td>MIL</td>\n",
       "      <td>Milwaukee</td>\n",
       "      <td>201572</td>\n",
       "      <td>Brook Lopez</td>\n",
       "      <td>C</td>\n",
       "      <td>NaN</td>\n",
       "      <td>26:25</td>\n",
       "      <td>4.0</td>\n",
       "      <td>11.0</td>\n",
       "      <td>0.364</td>\n",
       "      <td>1.0</td>\n",
       "      <td>5.0</td>\n",
       "      <td>0.200</td>\n",
       "      <td>7.0</td>\n",
       "      <td>9.0</td>\n",
       "      <td>0.778</td>\n",
       "      <td>2.0</td>\n",
       "      <td>5.0</td>\n",
       "      <td>7.0</td>\n",
       "      <td>0.0</td>\n",
       "      <td>0.0</td>\n",
       "      <td>3.0</td>\n",
       "      <td>0.0</td>\n",
       "      <td>2.0</td>\n",
       "      <td>16.0</td>\n",
       "      <td>16.0</td>\n",
       "      <td>CHA</td>\n",
       "      <td>0</td>\n",
       "    </tr>\n",
       "  </tbody>\n",
       "</table>\n",
       "</div>"
      ],
      "text/plain": [
       "    GAME_ID     TEAM_ID TEAM_ABBREVIATION  TEAM_CITY  PLAYER_ID  \\\n",
       "0  21900895  1610612749               MIL  Milwaukee     202083   \n",
       "1  21900895  1610612749               MIL  Milwaukee     203507   \n",
       "2  21900895  1610612749               MIL  Milwaukee     201572   \n",
       "\n",
       "             PLAYER_NAME START_POSITION COMMENT    MIN   FGM   FGA  FG_PCT  \\\n",
       "0        Wesley Matthews              F     NaN  27:08   3.0  11.0   0.273   \n",
       "1  Giannis Antetokounmpo              F     NaN  34:55  17.0  28.0   0.607   \n",
       "2            Brook Lopez              C     NaN  26:25   4.0  11.0   0.364   \n",
       "\n",
       "   FG3M  FG3A  FG3_PCT  FTM  FTA  FT_PCT  OREB  DREB   REB  AST  STL  BLK  \\\n",
       "0   2.0   7.0    0.286  0.0  0.0   0.000   4.0   4.0   8.0  2.0  2.0  0.0   \n",
       "1   1.0   4.0    0.250  6.0  7.0   0.857   2.0  18.0  20.0  6.0  1.0  0.0   \n",
       "2   1.0   5.0    0.200  7.0  9.0   0.778   2.0   5.0   7.0  0.0  0.0  3.0   \n",
       "\n",
       "    TO   PF   PTS  PLUS_MINUS ABV_HOME  HOME_TEAM_WINS  \n",
       "0  0.0  0.0   8.0        11.0      CHA               0  \n",
       "1  3.0  2.0  41.0        22.0      CHA               0  \n",
       "2  0.0  2.0  16.0        16.0      CHA               0  "
      ]
     },
     "execution_count": 136,
     "metadata": {},
     "output_type": "execute_result"
    }
   ],
   "source": [
    "#Create a game_details df that has home wins included\n",
    "full_dets = game_details.merge(g[['GAME_ID','ABV_HOME','HOME_TEAM_WINS']],left_on = 'GAME_ID', right_on='GAME_ID')\n",
    "full_dets.head(3) "
   ]
  },
  {
   "cell_type": "code",
   "execution_count": 91,
   "metadata": {},
   "outputs": [],
   "source": [
    "#Using hometeam win to create a standard 'win' column\n",
    "full_dets['WIN'] = np.where(full_dets['TEAM_ABBREVIATION']==full_dets['ABV_HOME'],\n",
    "                              full_dets['HOME_TEAM_WINS'],\n",
    "                                  np.where(full_dets['HOME_TEAM_WINS']==1,\n",
    "                                          0,1))"
   ]
  },
  {
   "cell_type": "code",
   "execution_count": 92,
   "metadata": {},
   "outputs": [
    {
     "data": {
      "text/html": [
       "<div>\n",
       "<style scoped>\n",
       "    .dataframe tbody tr th:only-of-type {\n",
       "        vertical-align: middle;\n",
       "    }\n",
       "\n",
       "    .dataframe tbody tr th {\n",
       "        vertical-align: top;\n",
       "    }\n",
       "\n",
       "    .dataframe thead th {\n",
       "        text-align: right;\n",
       "    }\n",
       "</style>\n",
       "<table border=\"1\" class=\"dataframe\">\n",
       "  <thead>\n",
       "    <tr style=\"text-align: right;\">\n",
       "      <th></th>\n",
       "      <th>GAME_ID</th>\n",
       "      <th>TEAM_ID</th>\n",
       "      <th>TEAM_ABBREVIATION</th>\n",
       "      <th>ABV_HOME</th>\n",
       "      <th>FGM</th>\n",
       "      <th>FGA</th>\n",
       "      <th>FG_PCT</th>\n",
       "      <th>FG3M</th>\n",
       "      <th>FG3A</th>\n",
       "      <th>FG3_PCT</th>\n",
       "      <th>...</th>\n",
       "      <th>DREB</th>\n",
       "      <th>REB</th>\n",
       "      <th>AST</th>\n",
       "      <th>STL</th>\n",
       "      <th>BLK</th>\n",
       "      <th>PF</th>\n",
       "      <th>PTS</th>\n",
       "      <th>PLUS_MINUS</th>\n",
       "      <th>HOME_TEAM_WINS</th>\n",
       "      <th>WIN</th>\n",
       "    </tr>\n",
       "  </thead>\n",
       "  <tbody>\n",
       "    <tr>\n",
       "      <th>0</th>\n",
       "      <td>10300001</td>\n",
       "      <td>1610612742</td>\n",
       "      <td>DAL</td>\n",
       "      <td>UTA</td>\n",
       "      <td>34.0</td>\n",
       "      <td>76.0</td>\n",
       "      <td>4.177</td>\n",
       "      <td>2.0</td>\n",
       "      <td>8.0</td>\n",
       "      <td>1.0</td>\n",
       "      <td>...</td>\n",
       "      <td>26.0</td>\n",
       "      <td>38.0</td>\n",
       "      <td>20.0</td>\n",
       "      <td>9.0</td>\n",
       "      <td>4.0</td>\n",
       "      <td>34.0</td>\n",
       "      <td>85.0</td>\n",
       "      <td>0.0</td>\n",
       "      <td>1</td>\n",
       "      <td>0</td>\n",
       "    </tr>\n",
       "    <tr>\n",
       "      <th>1</th>\n",
       "      <td>10300001</td>\n",
       "      <td>1610612762</td>\n",
       "      <td>UTA</td>\n",
       "      <td>UTA</td>\n",
       "      <td>32.0</td>\n",
       "      <td>70.0</td>\n",
       "      <td>9.758</td>\n",
       "      <td>1.0</td>\n",
       "      <td>7.0</td>\n",
       "      <td>1.0</td>\n",
       "      <td>...</td>\n",
       "      <td>32.0</td>\n",
       "      <td>41.0</td>\n",
       "      <td>23.0</td>\n",
       "      <td>8.0</td>\n",
       "      <td>4.0</td>\n",
       "      <td>26.0</td>\n",
       "      <td>90.0</td>\n",
       "      <td>0.0</td>\n",
       "      <td>1</td>\n",
       "      <td>1</td>\n",
       "    </tr>\n",
       "    <tr>\n",
       "      <th>2</th>\n",
       "      <td>10300002</td>\n",
       "      <td>1610612749</td>\n",
       "      <td>MIL</td>\n",
       "      <td>MEM</td>\n",
       "      <td>32.0</td>\n",
       "      <td>75.0</td>\n",
       "      <td>4.521</td>\n",
       "      <td>2.0</td>\n",
       "      <td>13.0</td>\n",
       "      <td>0.5</td>\n",
       "      <td>...</td>\n",
       "      <td>32.0</td>\n",
       "      <td>43.0</td>\n",
       "      <td>20.0</td>\n",
       "      <td>9.0</td>\n",
       "      <td>4.0</td>\n",
       "      <td>26.0</td>\n",
       "      <td>94.0</td>\n",
       "      <td>0.0</td>\n",
       "      <td>1</td>\n",
       "      <td>0</td>\n",
       "    </tr>\n",
       "  </tbody>\n",
       "</table>\n",
       "<p>3 rows × 23 columns</p>\n",
       "</div>"
      ],
      "text/plain": [
       "    GAME_ID     TEAM_ID TEAM_ABBREVIATION ABV_HOME   FGM   FGA  FG_PCT  FG3M  \\\n",
       "0  10300001  1610612742               DAL      UTA  34.0  76.0   4.177   2.0   \n",
       "1  10300001  1610612762               UTA      UTA  32.0  70.0   9.758   1.0   \n",
       "2  10300002  1610612749               MIL      MEM  32.0  75.0   4.521   2.0   \n",
       "\n",
       "   FG3A  FG3_PCT  ...  DREB   REB   AST  STL  BLK    PF   PTS  PLUS_MINUS  \\\n",
       "0   8.0      1.0  ...  26.0  38.0  20.0  9.0  4.0  34.0  85.0         0.0   \n",
       "1   7.0      1.0  ...  32.0  41.0  23.0  8.0  4.0  26.0  90.0         0.0   \n",
       "2  13.0      0.5  ...  32.0  43.0  20.0  9.0  4.0  26.0  94.0         0.0   \n",
       "\n",
       "   HOME_TEAM_WINS  WIN  \n",
       "0               1    0  \n",
       "1               1    1  \n",
       "2               1    0  \n",
       "\n",
       "[3 rows x 23 columns]"
      ]
     },
     "execution_count": 92,
     "metadata": {},
     "output_type": "execute_result"
    }
   ],
   "source": [
    "#Drop useless columns\n",
    "game_win = full_dets.drop(columns = ['COMMENT','PLAYER_ID','MIN','FT_PCT','TO'])\n",
    "\n",
    "#Now we need to aggregate this data by Game ID as we have individual player stats for each game\n",
    "#Can sum each players stats so that we can get team stats for each game\n",
    "#Need to group by Team Abv as well to seperate out Home and Away stats\n",
    "game_gp = game_win.groupby(['GAME_ID','TEAM_ID','TEAM_ABBREVIATION','ABV_HOME']).sum().reset_index()\n",
    "\n",
    "#Wins were being summed due to grouping. Ensure that still a binary classification\n",
    "game_gp['WIN'] = np.where(game_gp['WIN'] > 0,1,0)\n",
    "game_gp['HOME_TEAM_WINS'] = np.where(game_gp['HOME_TEAM_WINS'] > 0,1,0)\n",
    "game_gp.head(3)"
   ]
  },
  {
   "cell_type": "code",
   "execution_count": 93,
   "metadata": {},
   "outputs": [
    {
     "data": {
      "text/plain": [
       "Text(0.5, 1, 'Additional Stat Correlations')"
      ]
     },
     "execution_count": 93,
     "metadata": {},
     "output_type": "execute_result"
    },
    {
     "data": {
      "image/png": "[encoded data removed]",
      "text/plain": [
       "<Figure size 1080x1080 with 2 Axes>"
      ]
     },
     "metadata": {},
     "output_type": "display_data"
    }
   ],
   "source": [
    "#Heat map of new game stats and their correlation\n",
    "plt.figure(figsize = (15,15))\n",
    "sns.heatmap(game_gp.corr(),cmap = 'PiYG', center = 0)\n",
    "plt.title('Additional Stat Correlations')"
   ]
  },
  {
   "cell_type": "markdown",
   "metadata": {},
   "source": [
    "Only look at the WIN column for this heatmap... Home_team_wins is meaningless for the heatmap since each row in the df is not always a home game and the stats are not differentiated between home and away\n",
    "\n",
    "Interesting that defensive rebounds have a correlation to wins, but offensive rebounds have no correlation at all"
   ]
  },
  {
   "cell_type": "markdown",
   "metadata": {},
   "source": [
    "# Apply Moving Average\n",
    "\n",
    "We now have a better picture of which stats correlate to a win.\n",
    "\n",
    "However, to predict a game outcome, we cannot just use that game's stats. The whole point of predicting a game outcome is to do so before it occurs, so we obviously cannot use the same game stats to predict it's outcome. \n",
    "\n",
    "Intead we will use a moving average of the last X games to predict the outcome.\n",
    "\n",
    "We will also need to create a df that includes both the home AND away stats as the difference between the teams will be an important factor in predicting the outcome."
   ]
  },
  {
   "cell_type": "code",
   "execution_count": 94,
   "metadata": {},
   "outputs": [
    {
     "data": {
      "text/html": [
       "<div>\n",
       "<style scoped>\n",
       "    .dataframe tbody tr th:only-of-type {\n",
       "        vertical-align: middle;\n",
       "    }\n",
       "\n",
       "    .dataframe tbody tr th {\n",
       "        vertical-align: top;\n",
       "    }\n",
       "\n",
       "    .dataframe thead th {\n",
       "        text-align: right;\n",
       "    }\n",
       "</style>\n",
       "<table border=\"1\" class=\"dataframe\">\n",
       "  <thead>\n",
       "    <tr style=\"text-align: right;\">\n",
       "      <th></th>\n",
       "      <th>FGM</th>\n",
       "      <th>FGA</th>\n",
       "      <th>FG_PCT</th>\n",
       "      <th>FG3M</th>\n",
       "      <th>FG3A</th>\n",
       "      <th>FG3_PCT</th>\n",
       "      <th>FTM</th>\n",
       "      <th>FTA</th>\n",
       "      <th>OREB</th>\n",
       "      <th>DREB</th>\n",
       "      <th>REB</th>\n",
       "      <th>AST</th>\n",
       "      <th>STL</th>\n",
       "      <th>BLK</th>\n",
       "      <th>PF</th>\n",
       "      <th>PTS</th>\n",
       "      <th>PLUS_MINUS</th>\n",
       "    </tr>\n",
       "  </thead>\n",
       "  <tbody>\n",
       "    <tr>\n",
       "      <th>1917</th>\n",
       "      <td>36.0</td>\n",
       "      <td>78.0</td>\n",
       "      <td>6.928</td>\n",
       "      <td>14.0</td>\n",
       "      <td>32.0</td>\n",
       "      <td>4.250</td>\n",
       "      <td>12.0</td>\n",
       "      <td>17.0</td>\n",
       "      <td>10.0</td>\n",
       "      <td>32.0</td>\n",
       "      <td>42.0</td>\n",
       "      <td>19.0</td>\n",
       "      <td>6.0</td>\n",
       "      <td>6.0</td>\n",
       "      <td>25.0</td>\n",
       "      <td>98.0</td>\n",
       "      <td>60.0</td>\n",
       "    </tr>\n",
       "    <tr>\n",
       "      <th>1918</th>\n",
       "      <td>31.0</td>\n",
       "      <td>72.0</td>\n",
       "      <td>5.309</td>\n",
       "      <td>5.0</td>\n",
       "      <td>15.0</td>\n",
       "      <td>2.333</td>\n",
       "      <td>19.0</td>\n",
       "      <td>28.0</td>\n",
       "      <td>10.0</td>\n",
       "      <td>32.0</td>\n",
       "      <td>42.0</td>\n",
       "      <td>18.0</td>\n",
       "      <td>11.0</td>\n",
       "      <td>3.0</td>\n",
       "      <td>17.0</td>\n",
       "      <td>86.0</td>\n",
       "      <td>-60.0</td>\n",
       "    </tr>\n",
       "    <tr>\n",
       "      <th>1919</th>\n",
       "      <td>30.0</td>\n",
       "      <td>64.0</td>\n",
       "      <td>5.414</td>\n",
       "      <td>5.0</td>\n",
       "      <td>13.0</td>\n",
       "      <td>1.900</td>\n",
       "      <td>29.0</td>\n",
       "      <td>40.0</td>\n",
       "      <td>13.0</td>\n",
       "      <td>32.0</td>\n",
       "      <td>45.0</td>\n",
       "      <td>18.0</td>\n",
       "      <td>6.0</td>\n",
       "      <td>4.0</td>\n",
       "      <td>27.0</td>\n",
       "      <td>94.0</td>\n",
       "      <td>-25.0</td>\n",
       "    </tr>\n",
       "    <tr>\n",
       "      <th>1920</th>\n",
       "      <td>33.0</td>\n",
       "      <td>75.0</td>\n",
       "      <td>6.169</td>\n",
       "      <td>6.0</td>\n",
       "      <td>18.0</td>\n",
       "      <td>3.916</td>\n",
       "      <td>27.0</td>\n",
       "      <td>35.0</td>\n",
       "      <td>7.0</td>\n",
       "      <td>23.0</td>\n",
       "      <td>30.0</td>\n",
       "      <td>21.0</td>\n",
       "      <td>10.0</td>\n",
       "      <td>3.0</td>\n",
       "      <td>31.0</td>\n",
       "      <td>99.0</td>\n",
       "      <td>25.0</td>\n",
       "    </tr>\n",
       "    <tr>\n",
       "      <th>1921</th>\n",
       "      <td>25.0</td>\n",
       "      <td>74.0</td>\n",
       "      <td>3.831</td>\n",
       "      <td>8.0</td>\n",
       "      <td>21.0</td>\n",
       "      <td>2.517</td>\n",
       "      <td>23.0</td>\n",
       "      <td>32.0</td>\n",
       "      <td>12.0</td>\n",
       "      <td>28.0</td>\n",
       "      <td>40.0</td>\n",
       "      <td>18.0</td>\n",
       "      <td>8.0</td>\n",
       "      <td>7.0</td>\n",
       "      <td>24.0</td>\n",
       "      <td>81.0</td>\n",
       "      <td>-20.0</td>\n",
       "    </tr>\n",
       "  </tbody>\n",
       "</table>\n",
       "</div>"
      ],
      "text/plain": [
       "       FGM   FGA  FG_PCT  FG3M  FG3A  FG3_PCT   FTM   FTA  OREB  DREB   REB  \\\n",
       "1917  36.0  78.0   6.928  14.0  32.0    4.250  12.0  17.0  10.0  32.0  42.0   \n",
       "1918  31.0  72.0   5.309   5.0  15.0    2.333  19.0  28.0  10.0  32.0  42.0   \n",
       "1919  30.0  64.0   5.414   5.0  13.0    1.900  29.0  40.0  13.0  32.0  45.0   \n",
       "1920  33.0  75.0   6.169   6.0  18.0    3.916  27.0  35.0   7.0  23.0  30.0   \n",
       "1921  25.0  74.0   3.831   8.0  21.0    2.517  23.0  32.0  12.0  28.0  40.0   \n",
       "\n",
       "       AST   STL  BLK    PF   PTS  PLUS_MINUS  \n",
       "1917  19.0   6.0  6.0  25.0  98.0        60.0  \n",
       "1918  18.0  11.0  3.0  17.0  86.0       -60.0  \n",
       "1919  18.0   6.0  4.0  27.0  94.0       -25.0  \n",
       "1920  21.0  10.0  3.0  31.0  99.0        25.0  \n",
       "1921  18.0   8.0  7.0  24.0  81.0       -20.0  "
      ]
     },
     "execution_count": 94,
     "metadata": {},
     "output_type": "execute_result"
    }
   ],
   "source": [
    "#These are the stats we are going to turn into a moving average\n",
    "game_gp.loc[:,'FGM':'PLUS_MINUS'].loc[game_gp['PLUS_MINUS']!=0].head(5)"
   ]
  },
  {
   "cell_type": "code",
   "execution_count": 95,
   "metadata": {},
   "outputs": [],
   "source": [
    "#The first game that has a valid plus minus is 1917. We can just drop all columns before this, since it is a significant feature\n",
    "game_gp.drop(game_gp.iloc[:1917].index, inplace=True)"
   ]
  },
  {
   "cell_type": "code",
   "execution_count": 96,
   "metadata": {},
   "outputs": [],
   "source": [
    "#Create a new df to apply rolling average to\n",
    "roll = game_gp.copy()"
   ]
  },
  {
   "cell_type": "code",
   "execution_count": 97,
   "metadata": {},
   "outputs": [
    {
     "data": {
      "text/html": [
       "<div>\n",
       "<style scoped>\n",
       "    .dataframe tbody tr th:only-of-type {\n",
       "        vertical-align: middle;\n",
       "    }\n",
       "\n",
       "    .dataframe tbody tr th {\n",
       "        vertical-align: top;\n",
       "    }\n",
       "\n",
       "    .dataframe thead th {\n",
       "        text-align: right;\n",
       "    }\n",
       "</style>\n",
       "<table border=\"1\" class=\"dataframe\">\n",
       "  <thead>\n",
       "    <tr style=\"text-align: right;\">\n",
       "      <th></th>\n",
       "      <th>TEAM_ID</th>\n",
       "      <th>TEAM_ABBREVIATION</th>\n",
       "      <th>GAME_ID</th>\n",
       "      <th>ABV_HOME</th>\n",
       "      <th>FGM</th>\n",
       "      <th>FGA</th>\n",
       "      <th>FG_PCT</th>\n",
       "      <th>FG3M</th>\n",
       "      <th>FG3A</th>\n",
       "      <th>FG3_PCT</th>\n",
       "      <th>...</th>\n",
       "      <th>DREB</th>\n",
       "      <th>REB</th>\n",
       "      <th>AST</th>\n",
       "      <th>STL</th>\n",
       "      <th>BLK</th>\n",
       "      <th>PF</th>\n",
       "      <th>PTS</th>\n",
       "      <th>PLUS_MINUS</th>\n",
       "      <th>HOME_TEAM_WINS</th>\n",
       "      <th>WIN</th>\n",
       "    </tr>\n",
       "  </thead>\n",
       "  <tbody>\n",
       "    <tr>\n",
       "      <th>0</th>\n",
       "      <td>1610612737</td>\n",
       "      <td>ATL</td>\n",
       "      <td>11400007</td>\n",
       "      <td>ATL</td>\n",
       "      <td>31.0</td>\n",
       "      <td>74.0</td>\n",
       "      <td>4.538</td>\n",
       "      <td>8.0</td>\n",
       "      <td>19.0</td>\n",
       "      <td>4.000</td>\n",
       "      <td>...</td>\n",
       "      <td>36.0</td>\n",
       "      <td>50.0</td>\n",
       "      <td>24.0</td>\n",
       "      <td>6.0</td>\n",
       "      <td>5.0</td>\n",
       "      <td>26.0</td>\n",
       "      <td>93.0</td>\n",
       "      <td>30.0</td>\n",
       "      <td>1</td>\n",
       "      <td>1</td>\n",
       "    </tr>\n",
       "    <tr>\n",
       "      <th>1</th>\n",
       "      <td>1610612737</td>\n",
       "      <td>ATL</td>\n",
       "      <td>11400035</td>\n",
       "      <td>MEM</td>\n",
       "      <td>32.0</td>\n",
       "      <td>75.0</td>\n",
       "      <td>4.972</td>\n",
       "      <td>8.0</td>\n",
       "      <td>25.0</td>\n",
       "      <td>2.717</td>\n",
       "      <td>...</td>\n",
       "      <td>33.0</td>\n",
       "      <td>42.0</td>\n",
       "      <td>22.0</td>\n",
       "      <td>4.0</td>\n",
       "      <td>7.0</td>\n",
       "      <td>21.0</td>\n",
       "      <td>88.0</td>\n",
       "      <td>-25.0</td>\n",
       "      <td>1</td>\n",
       "      <td>0</td>\n",
       "    </tr>\n",
       "    <tr>\n",
       "      <th>2</th>\n",
       "      <td>1610612737</td>\n",
       "      <td>ATL</td>\n",
       "      <td>11400052</td>\n",
       "      <td>MIA</td>\n",
       "      <td>39.0</td>\n",
       "      <td>80.0</td>\n",
       "      <td>6.421</td>\n",
       "      <td>13.0</td>\n",
       "      <td>34.0</td>\n",
       "      <td>3.583</td>\n",
       "      <td>...</td>\n",
       "      <td>36.0</td>\n",
       "      <td>45.0</td>\n",
       "      <td>27.0</td>\n",
       "      <td>5.0</td>\n",
       "      <td>7.0</td>\n",
       "      <td>22.0</td>\n",
       "      <td>109.0</td>\n",
       "      <td>30.0</td>\n",
       "      <td>0</td>\n",
       "      <td>1</td>\n",
       "    </tr>\n",
       "    <tr>\n",
       "      <th>3</th>\n",
       "      <td>1610612737</td>\n",
       "      <td>ATL</td>\n",
       "      <td>11400060</td>\n",
       "      <td>CHI</td>\n",
       "      <td>31.0</td>\n",
       "      <td>80.0</td>\n",
       "      <td>5.201</td>\n",
       "      <td>7.0</td>\n",
       "      <td>27.0</td>\n",
       "      <td>2.166</td>\n",
       "      <td>...</td>\n",
       "      <td>37.0</td>\n",
       "      <td>46.0</td>\n",
       "      <td>21.0</td>\n",
       "      <td>7.0</td>\n",
       "      <td>6.0</td>\n",
       "      <td>30.0</td>\n",
       "      <td>84.0</td>\n",
       "      <td>-5.0</td>\n",
       "      <td>1</td>\n",
       "      <td>0</td>\n",
       "    </tr>\n",
       "    <tr>\n",
       "      <th>4</th>\n",
       "      <td>1610612737</td>\n",
       "      <td>ATL</td>\n",
       "      <td>11400077</td>\n",
       "      <td>ATL</td>\n",
       "      <td>36.0</td>\n",
       "      <td>84.0</td>\n",
       "      <td>5.060</td>\n",
       "      <td>11.0</td>\n",
       "      <td>27.0</td>\n",
       "      <td>3.258</td>\n",
       "      <td>...</td>\n",
       "      <td>35.0</td>\n",
       "      <td>43.0</td>\n",
       "      <td>28.0</td>\n",
       "      <td>8.0</td>\n",
       "      <td>3.0</td>\n",
       "      <td>24.0</td>\n",
       "      <td>100.0</td>\n",
       "      <td>-20.0</td>\n",
       "      <td>0</td>\n",
       "      <td>0</td>\n",
       "    </tr>\n",
       "  </tbody>\n",
       "</table>\n",
       "<p>5 rows × 23 columns</p>\n",
       "</div>"
      ],
      "text/plain": [
       "      TEAM_ID TEAM_ABBREVIATION   GAME_ID ABV_HOME   FGM   FGA  FG_PCT  FG3M  \\\n",
       "0  1610612737               ATL  11400007      ATL  31.0  74.0   4.538   8.0   \n",
       "1  1610612737               ATL  11400035      MEM  32.0  75.0   4.972   8.0   \n",
       "2  1610612737               ATL  11400052      MIA  39.0  80.0   6.421  13.0   \n",
       "3  1610612737               ATL  11400060      CHI  31.0  80.0   5.201   7.0   \n",
       "4  1610612737               ATL  11400077      ATL  36.0  84.0   5.060  11.0   \n",
       "\n",
       "   FG3A  FG3_PCT  ...  DREB   REB   AST  STL  BLK    PF    PTS  PLUS_MINUS  \\\n",
       "0  19.0    4.000  ...  36.0  50.0  24.0  6.0  5.0  26.0   93.0        30.0   \n",
       "1  25.0    2.717  ...  33.0  42.0  22.0  4.0  7.0  21.0   88.0       -25.0   \n",
       "2  34.0    3.583  ...  36.0  45.0  27.0  5.0  7.0  22.0  109.0        30.0   \n",
       "3  27.0    2.166  ...  37.0  46.0  21.0  7.0  6.0  30.0   84.0        -5.0   \n",
       "4  27.0    3.258  ...  35.0  43.0  28.0  8.0  3.0  24.0  100.0       -20.0   \n",
       "\n",
       "   HOME_TEAM_WINS  WIN  \n",
       "0               1    1  \n",
       "1               1    0  \n",
       "2               0    1  \n",
       "3               1    0  \n",
       "4               0    0  \n",
       "\n",
       "[5 rows x 23 columns]"
      ]
     },
     "execution_count": 97,
     "metadata": {},
     "output_type": "execute_result"
    }
   ],
   "source": [
    "#Create a df where each team is grouped so that we can calculate a moving average\n",
    "#Sort by TEAM_ID and ABV just to make sure that these are lining up as intended\n",
    "#Sort by ABV_HOME so that we seperate out the home and away teams\n",
    "#Sort by game_ID so games are chronological\n",
    "roll_gp = roll.groupby(['TEAM_ID','TEAM_ABBREVIATION','GAME_ID','ABV_HOME']).sum().reset_index()\n",
    "roll_gp.head(5)"
   ]
  },
  {
   "cell_type": "markdown",
   "metadata": {},
   "source": [
    "We now have the DF formatted so we can apply a rolling average to each team. "
   ]
  },
  {
   "cell_type": "code",
   "execution_count": 99,
   "metadata": {},
   "outputs": [],
   "source": [
    "tnames = roll_gp.TEAM_ABBREVIATION.unique() #Create list of team abvs\n",
    "r = roll_gp.copy() \n",
    "\n",
    "#loop through all the teams to apply a rolling average\n",
    "for i in tnames:\n",
    "    r.loc[r['TEAM_ABBREVIATION'] == i,'FGM':'PLUS_MINUS'] = r.loc[r['TEAM_ABBREVIATION'] == i,'FGM':'PLUS_MINUS'].rolling(window=5).mean().shift(1)"
   ]
  },
  {
   "cell_type": "code",
   "execution_count": 100,
   "metadata": {},
   "outputs": [],
   "source": [
    "#Bring games back into chronoligcal order\n",
    "r = r.sort_values(by='GAME_ID')"
   ]
  },
  {
   "cell_type": "code",
   "execution_count": 101,
   "metadata": {},
   "outputs": [
    {
     "data": {
      "text/html": [
       "<div>\n",
       "<style scoped>\n",
       "    .dataframe tbody tr th:only-of-type {\n",
       "        vertical-align: middle;\n",
       "    }\n",
       "\n",
       "    .dataframe tbody tr th {\n",
       "        vertical-align: top;\n",
       "    }\n",
       "\n",
       "    .dataframe thead th {\n",
       "        text-align: right;\n",
       "    }\n",
       "</style>\n",
       "<table border=\"1\" class=\"dataframe\">\n",
       "  <thead>\n",
       "    <tr style=\"text-align: right;\">\n",
       "      <th></th>\n",
       "      <th>TEAM_ID</th>\n",
       "      <th>TEAM_ABBREVIATION</th>\n",
       "      <th>GAME_ID</th>\n",
       "      <th>ABV_HOME</th>\n",
       "      <th>FGM</th>\n",
       "      <th>FGA</th>\n",
       "      <th>FG_PCT</th>\n",
       "      <th>FG3M</th>\n",
       "      <th>FG3A</th>\n",
       "      <th>FG3_PCT</th>\n",
       "      <th>...</th>\n",
       "      <th>DREB</th>\n",
       "      <th>REB</th>\n",
       "      <th>AST</th>\n",
       "      <th>STL</th>\n",
       "      <th>BLK</th>\n",
       "      <th>PF</th>\n",
       "      <th>PTS</th>\n",
       "      <th>PLUS_MINUS</th>\n",
       "      <th>HOME_TEAM_WINS</th>\n",
       "      <th>WIN</th>\n",
       "    </tr>\n",
       "  </thead>\n",
       "  <tbody>\n",
       "    <tr>\n",
       "      <th>7510</th>\n",
       "      <td>1610612742</td>\n",
       "      <td>DAL</td>\n",
       "      <td>11500103</td>\n",
       "      <td>CHI</td>\n",
       "      <td>31.0</td>\n",
       "      <td>81.4</td>\n",
       "      <td>4.2816</td>\n",
       "      <td>5.8</td>\n",
       "      <td>27.0</td>\n",
       "      <td>1.5198</td>\n",
       "      <td>...</td>\n",
       "      <td>35.6</td>\n",
       "      <td>44.4</td>\n",
       "      <td>17.8</td>\n",
       "      <td>7.8</td>\n",
       "      <td>5.4</td>\n",
       "      <td>21.8</td>\n",
       "      <td>87.6</td>\n",
       "      <td>-64.0</td>\n",
       "      <td>1</td>\n",
       "      <td>0</td>\n",
       "    </tr>\n",
       "    <tr>\n",
       "      <th>6025</th>\n",
       "      <td>1610612741</td>\n",
       "      <td>CHI</td>\n",
       "      <td>11500103</td>\n",
       "      <td>CHI</td>\n",
       "      <td>37.8</td>\n",
       "      <td>85.6</td>\n",
       "      <td>4.6094</td>\n",
       "      <td>10.2</td>\n",
       "      <td>28.4</td>\n",
       "      <td>3.0092</td>\n",
       "      <td>...</td>\n",
       "      <td>36.8</td>\n",
       "      <td>49.0</td>\n",
       "      <td>20.6</td>\n",
       "      <td>6.6</td>\n",
       "      <td>3.2</td>\n",
       "      <td>25.0</td>\n",
       "      <td>101.8</td>\n",
       "      <td>-21.0</td>\n",
       "      <td>1</td>\n",
       "      <td>1</td>\n",
       "    </tr>\n",
       "    <tr>\n",
       "      <th>5424</th>\n",
       "      <td>1610612740</td>\n",
       "      <td>NOP</td>\n",
       "      <td>11500104</td>\n",
       "      <td>NOP</td>\n",
       "      <td>34.6</td>\n",
       "      <td>82.8</td>\n",
       "      <td>4.7590</td>\n",
       "      <td>8.4</td>\n",
       "      <td>25.6</td>\n",
       "      <td>2.5274</td>\n",
       "      <td>...</td>\n",
       "      <td>35.6</td>\n",
       "      <td>43.4</td>\n",
       "      <td>16.2</td>\n",
       "      <td>10.0</td>\n",
       "      <td>4.6</td>\n",
       "      <td>24.8</td>\n",
       "      <td>104.2</td>\n",
       "      <td>-34.0</td>\n",
       "      <td>1</td>\n",
       "      <td>1</td>\n",
       "    </tr>\n",
       "    <tr>\n",
       "      <th>16498</th>\n",
       "      <td>1610612748</td>\n",
       "      <td>MIA</td>\n",
       "      <td>11500104</td>\n",
       "      <td>NOP</td>\n",
       "      <td>36.2</td>\n",
       "      <td>87.2</td>\n",
       "      <td>5.2060</td>\n",
       "      <td>7.4</td>\n",
       "      <td>26.2</td>\n",
       "      <td>2.5482</td>\n",
       "      <td>...</td>\n",
       "      <td>37.0</td>\n",
       "      <td>49.0</td>\n",
       "      <td>21.2</td>\n",
       "      <td>7.8</td>\n",
       "      <td>4.8</td>\n",
       "      <td>18.6</td>\n",
       "      <td>101.0</td>\n",
       "      <td>19.0</td>\n",
       "      <td>1</td>\n",
       "      <td>0</td>\n",
       "    </tr>\n",
       "    <tr>\n",
       "      <th>18065</th>\n",
       "      <td>1610612749</td>\n",
       "      <td>MIL</td>\n",
       "      <td>11500105</td>\n",
       "      <td>MIN</td>\n",
       "      <td>37.4</td>\n",
       "      <td>81.4</td>\n",
       "      <td>5.4442</td>\n",
       "      <td>6.6</td>\n",
       "      <td>20.0</td>\n",
       "      <td>2.0874</td>\n",
       "      <td>...</td>\n",
       "      <td>35.6</td>\n",
       "      <td>46.6</td>\n",
       "      <td>22.0</td>\n",
       "      <td>7.6</td>\n",
       "      <td>5.8</td>\n",
       "      <td>29.8</td>\n",
       "      <td>100.0</td>\n",
       "      <td>-16.0</td>\n",
       "      <td>1</td>\n",
       "      <td>0</td>\n",
       "    </tr>\n",
       "  </tbody>\n",
       "</table>\n",
       "<p>5 rows × 23 columns</p>\n",
       "</div>"
      ],
      "text/plain": [
       "          TEAM_ID TEAM_ABBREVIATION   GAME_ID ABV_HOME   FGM   FGA  FG_PCT  \\\n",
       "7510   1610612742               DAL  11500103      CHI  31.0  81.4  4.2816   \n",
       "6025   1610612741               CHI  11500103      CHI  37.8  85.6  4.6094   \n",
       "5424   1610612740               NOP  11500104      NOP  34.6  82.8  4.7590   \n",
       "16498  1610612748               MIA  11500104      NOP  36.2  87.2  5.2060   \n",
       "18065  1610612749               MIL  11500105      MIN  37.4  81.4  5.4442   \n",
       "\n",
       "       FG3M  FG3A  FG3_PCT  ...  DREB   REB   AST   STL  BLK    PF    PTS  \\\n",
       "7510    5.8  27.0   1.5198  ...  35.6  44.4  17.8   7.8  5.4  21.8   87.6   \n",
       "6025   10.2  28.4   3.0092  ...  36.8  49.0  20.6   6.6  3.2  25.0  101.8   \n",
       "5424    8.4  25.6   2.5274  ...  35.6  43.4  16.2  10.0  4.6  24.8  104.2   \n",
       "16498   7.4  26.2   2.5482  ...  37.0  49.0  21.2   7.8  4.8  18.6  101.0   \n",
       "18065   6.6  20.0   2.0874  ...  35.6  46.6  22.0   7.6  5.8  29.8  100.0   \n",
       "\n",
       "       PLUS_MINUS  HOME_TEAM_WINS  WIN  \n",
       "7510        -64.0               1    0  \n",
       "6025        -21.0               1    1  \n",
       "5424        -34.0               1    1  \n",
       "16498        19.0               1    0  \n",
       "18065       -16.0               1    0  \n",
       "\n",
       "[5 rows x 23 columns]"
      ]
     },
     "execution_count": 101,
     "metadata": {},
     "output_type": "execute_result"
    }
   ],
   "source": [
    "#Let's check later in the df to make sure everything worked. \n",
    "#Can't use head since the first games will all be nan as each team needs to play 5 games before values will appear.\n",
    "r.iloc[400:405]"
   ]
  },
  {
   "cell_type": "markdown",
   "metadata": {},
   "source": [
    "# Data Prep\n",
    "\n",
    "We now have all of the games with a 5 game rolling average for each team\n",
    "\n",
    "We need to include the home and away team stats in each row in order to train our model. \n",
    "\n",
    "To do this we will create two dfs, one for home and one for away, and then merge them together on GAME_ID."
   ]
  },
  {
   "cell_type": "code",
   "execution_count": 102,
   "metadata": {},
   "outputs": [],
   "source": [
    "r_home = r.loc[r['TEAM_ABBREVIATION']==r['ABV_HOME']].copy()\n",
    "r_away = r.loc[r['TEAM_ABBREVIATION']!=r['ABV_HOME']].copy()\n",
    "\n",
    "r_home.drop(columns = 'HOME_TEAM_WINS',inplace = True)\n",
    "r_away.drop(columns = 'HOME_TEAM_WINS',inplace = True)"
   ]
  },
  {
   "cell_type": "code",
   "execution_count": 116,
   "metadata": {},
   "outputs": [
    {
     "data": {
      "text/plain": [
       "1    12645\n",
       "0     8486\n",
       "Name: WIN, dtype: int64"
      ]
     },
     "execution_count": 116,
     "metadata": {},
     "output_type": "execute_result"
    }
   ],
   "source": [
    "r_home.WIN.value_counts()"
   ]
  },
  {
   "cell_type": "code",
   "execution_count": 117,
   "metadata": {},
   "outputs": [
    {
     "data": {
      "text/plain": [
       "0    13705\n",
       "1     9440\n",
       "Name: WIN, dtype: int64"
      ]
     },
     "execution_count": 117,
     "metadata": {},
     "output_type": "execute_result"
    }
   ],
   "source": [
    "r_away.WIN.value_counts()"
   ]
  },
  {
   "cell_type": "code",
   "execution_count": 112,
   "metadata": {},
   "outputs": [
    {
     "name": "stdout",
     "output_type": "stream",
     "text": [
      "21131\n",
      "23145\n"
     ]
    }
   ],
   "source": [
    "r_fin = r_home.merge(r_away, on = 'GAME_ID',suffixes=('_home','_away'), how ='inner')\n",
    "\n",
    "print(len(r_home))\n",
    "print(len(r_away))"
   ]
  },
  {
   "cell_type": "code",
   "execution_count": 104,
   "metadata": {},
   "outputs": [],
   "source": [
    "#Drop redundant and useless columns\n",
    "r_fin.drop(columns = ['WIN_home','TEAM_ID_away','TEAM_ABBREVIATION_away','ABV_HOME_away',],inplace=True)"
   ]
  },
  {
   "cell_type": "code",
   "execution_count": 107,
   "metadata": {},
   "outputs": [
    {
     "data": {
      "text/plain": [
       "0    12645\n",
       "1     8486\n",
       "Name: WIN_away, dtype: int64"
      ]
     },
     "execution_count": 107,
     "metadata": {},
     "output_type": "execute_result"
    }
   ],
   "source": [
    "r_fin.WIN_away.value_counts()"
   ]
  },
  {
   "cell_type": "markdown",
   "metadata": {},
   "source": [
    "All games are now formatted so that they are home team on the left. Our hypothesis will be that home team wins. \n",
    "\n",
    "# Feature Selection"
   ]
  },
  {
   "cell_type": "code",
   "execution_count": 32,
   "metadata": {},
   "outputs": [],
   "source": [
    "r_fin.dropna(inplace=True) # Drop the first 5 games for each team since they are NaN"
   ]
  },
  {
   "cell_type": "code",
   "execution_count": 33,
   "metadata": {},
   "outputs": [],
   "source": [
    "#Let's select our best features before we go any further\n",
    "from sklearn.feature_selection import SelectKBest\n",
    "from sklearn.feature_selection import f_classif\n",
    "\n",
    "\n",
    "x = r_fin.loc[:,'FGM_home':'PLUS_MINUS_away']\n",
    "y = r_fin['HOME_TEAM_WINS']\n",
    "\n",
    "fvalue_selector = SelectKBest(f_classif, k=24)\n",
    "\n",
    "fvalue_selector.fit(x, y)\n",
    "\n",
    "dfscores = pd.DataFrame(fvalue_selector.scores_)\n",
    "dfcolumns = pd.DataFrame(x.columns)"
   ]
  },
  {
   "cell_type": "code",
   "execution_count": 34,
   "metadata": {},
   "outputs": [
    {
     "name": "stdout",
     "output_type": "stream",
     "text": [
      "              Specs       Score\n",
      "16  PLUS_MINUS_home  846.944530\n",
      "33  PLUS_MINUS_away  644.148123\n",
      "19      FG_PCT_away  143.901620\n",
      "32         PTS_away  140.759581\n",
      "20        FG3M_away  132.166003\n",
      "28         AST_away  117.719195\n",
      "15         PTS_home  113.170834\n",
      "26        DREB_away  106.585318\n",
      "21        FG3A_away  101.149815\n",
      "22     FG3_PCT_away   93.590082\n",
      "13         BLK_home   93.147819\n",
      "11         AST_home   90.997014\n",
      "17         FGM_away   87.366027\n",
      "0          FGM_home   71.250036\n",
      "2       FG_PCT_home   60.057486\n",
      "30         BLK_away   53.812710\n",
      "14          PF_home   39.462580\n",
      "9         DREB_home   38.520197\n",
      "27         REB_away   37.065706\n",
      "31          PF_away   36.291858\n",
      "3         FG3M_home   30.243351\n",
      "6          FTM_home   29.239459\n",
      "29         STL_away   28.746964\n",
      "25        OREB_away   28.425666\n"
     ]
    }
   ],
   "source": [
    "#concat two dataframes for better visualization \n",
    "featureScores = pd.concat([dfcolumns,dfscores],axis=1)\n",
    "featureScores.columns = ['Specs','Score']  \n",
    "print(featureScores.nlargest(24,'Score')) "
   ]
  },
  {
   "cell_type": "code",
   "execution_count": 35,
   "metadata": {},
   "outputs": [],
   "source": [
    "cols = featureScores.nlargest(9,'Score').Specs #Select Features with score > 100\n",
    "cols = [i for i in cols] #Get significant column names in a list so we can easily filter df"
   ]
  },
  {
   "cell_type": "markdown",
   "metadata": {},
   "source": [
    "# Model Selection"
   ]
  },
  {
   "cell_type": "code",
   "execution_count": 36,
   "metadata": {},
   "outputs": [],
   "source": [
    "#Import libraries to scale data and and split into test/training sets \n",
    "from sklearn.preprocessing import StandardScaler\n",
    "from sklearn.model_selection import train_test_split\n",
    "\n",
    "#new x values only contain top 9 best features \n",
    "x1 = r_fin[cols]\n",
    "y1 = r_fin['HOME_TEAM_WINS']\n",
    "\n",
    "#Scalde data as we will be testing many models, some of which require scaled data\n",
    "x1_scale=StandardScaler().fit_transform(x1)\n",
    "\n",
    "x1_train, x1_test, y1_train, y1_test = train_test_split(x1_scale,y1)"
   ]
  },
  {
   "cell_type": "code",
   "execution_count": 37,
   "metadata": {},
   "outputs": [],
   "source": [
    "#Import classifiers\n",
    "from sklearn.model_selection import cross_val_score\n",
    "from sklearn.linear_model import LogisticRegression\n",
    "from sklearn.svm import SVC\n",
    "from sklearn.naive_bayes import GaussianNB \n",
    "from sklearn.ensemble import RandomForestClassifier\n",
    "from sklearn.tree import DecisionTreeClassifier\n",
    "from sklearn.neighbors import KNeighborsClassifier\n",
    "from sklearn.ensemble import GradientBoostingClassifier\n",
    "\n",
    "#Apply cross validation to each type of model to assess the strongest model for the data "
   ]
  },
  {
   "cell_type": "code",
   "execution_count": 38,
   "metadata": {},
   "outputs": [
    {
     "data": {
      "text/plain": [
       "0.6339615487857012"
      ]
     },
     "execution_count": 38,
     "metadata": {},
     "output_type": "execute_result"
    }
   ],
   "source": [
    "cross_val_score(LogisticRegression(), x1_scale, y1).mean()"
   ]
  },
  {
   "cell_type": "code",
   "execution_count": 39,
   "metadata": {},
   "outputs": [
    {
     "data": {
      "text/plain": [
       "0.6261173889976963"
      ]
     },
     "execution_count": 39,
     "metadata": {},
     "output_type": "execute_result"
    }
   ],
   "source": [
    "cross_val_score(SVC(), x1_scale, y1).mean()"
   ]
  },
  {
   "cell_type": "code",
   "execution_count": 40,
   "metadata": {},
   "outputs": [
    {
     "data": {
      "text/plain": [
       "0.6132820909564993"
      ]
     },
     "execution_count": 40,
     "metadata": {},
     "output_type": "execute_result"
    }
   ],
   "source": [
    "cross_val_score(RandomForestClassifier(), x1_scale, y1).mean()"
   ]
  },
  {
   "cell_type": "code",
   "execution_count": 41,
   "metadata": {},
   "outputs": [
    {
     "data": {
      "text/plain": [
       "0.5377450424378706"
      ]
     },
     "execution_count": 41,
     "metadata": {},
     "output_type": "execute_result"
    }
   ],
   "source": [
    "cross_val_score(DecisionTreeClassifier(), x1_scale, y1).mean() \n",
    "#No point in really having this as GB is always better, but it's fast so may as well.."
   ]
  },
  {
   "cell_type": "code",
   "execution_count": 42,
   "metadata": {},
   "outputs": [
    {
     "data": {
      "text/plain": [
       "0.575157102818858"
      ]
     },
     "execution_count": 42,
     "metadata": {},
     "output_type": "execute_result"
    }
   ],
   "source": [
    "cross_val_score(KNeighborsClassifier(), x1_scale, y).mean()"
   ]
  },
  {
   "cell_type": "code",
   "execution_count": 43,
   "metadata": {},
   "outputs": [
    {
     "data": {
      "text/plain": [
       "0.6061507572477882"
      ]
     },
     "execution_count": 43,
     "metadata": {},
     "output_type": "execute_result"
    }
   ],
   "source": [
    "cross_val_score(GaussianNB(), x1_scale, y).mean()"
   ]
  },
  {
   "cell_type": "code",
   "execution_count": 44,
   "metadata": {},
   "outputs": [
    {
     "data": {
      "text/plain": [
       "0.628209016567535"
      ]
     },
     "execution_count": 44,
     "metadata": {},
     "output_type": "execute_result"
    }
   ],
   "source": [
    "cross_val_score(GradientBoostingClassifier(), x1_scale, y).mean()"
   ]
  },
  {
   "cell_type": "markdown",
   "metadata": {},
   "source": [
    "Logistic Regression wins! \n",
    "\n",
    "Sometimes GBClassifier has a higher score, but since it is so much slower, we will stick to using and tuning log_reg"
   ]
  },
  {
   "cell_type": "markdown",
   "metadata": {},
   "source": [
    "# Hyperparamater Tuning"
   ]
  },
  {
   "cell_type": "code",
   "execution_count": 45,
   "metadata": {},
   "outputs": [
    {
     "name": "stdout",
     "output_type": "stream",
     "text": [
      "tuned hpyerparameters:  {'C': 1.0, 'penalty': 'l1', 'solver': 'liblinear'}\n",
      "accuracy : 0.6355455862001088\n"
     ]
    }
   ],
   "source": [
    "#import GridSearchCV so we can find best combination of attributes\n",
    "from sklearn.model_selection import GridSearchCV\n",
    "\n",
    "params={'C':np.logspace(-3,3,7), 'penalty':['l1','l2'],'solver' : ['liblinear']} # l1 lasso, l2 ridge\n",
    "logreg = LogisticRegression()\n",
    "\n",
    "logreg_cv=GridSearchCV(logreg,params)\n",
    "logreg_cv.fit(x1_train,y1_train)\n",
    "\n",
    "print(\"tuned hpyerparameters: \",logreg_cv.best_params_)\n",
    "print(\"accuracy :\",logreg_cv.best_score_)"
   ]
  },
  {
   "cell_type": "markdown",
   "metadata": {},
   "source": [
    "# Model Evaluation"
   ]
  },
  {
   "cell_type": "code",
   "execution_count": 46,
   "metadata": {
    "scrolled": false
   },
   "outputs": [
    {
     "name": "stdout",
     "output_type": "stream",
     "text": [
      "              precision    recall  f1-score   support\n",
      "\n",
      "           0       0.56      0.35      0.43      2067\n",
      "           1       0.66      0.82      0.73      3192\n",
      "\n",
      "    accuracy                           0.64      5259\n",
      "   macro avg       0.61      0.59      0.58      5259\n",
      "weighted avg       0.62      0.64      0.61      5259\n",
      "\n"
     ]
    },
    {
     "data": {
      "image/png": "[encoded data removed]",
      "text/plain": [
       "<Figure size 432x288 with 2 Axes>"
      ]
     },
     "metadata": {},
     "output_type": "display_data"
    }
   ],
   "source": [
    "from sklearn.metrics import classification_report, confusion_matrix\n",
    "\n",
    "\n",
    "y1_pred = logreg_cv.predict(x1_test)\n",
    "\n",
    "cfn_matrix = confusion_matrix(y1_test, y1_pred, labels = [0,1])\n",
    "cfn_report = classification_report(y1_test, y1_pred)\n",
    "\n",
    "sns.heatmap(cfn_matrix, annot=True, fmt = 'd', cmap=\"Blues\").set_title('Confusion Matrix Heatmap')\n",
    "plt.ylabel('Actual Values')\n",
    "plt.xlabel('Predicted Values')\n",
    "\n",
    "print(cfn_report)"
   ]
  },
  {
   "cell_type": "code",
   "execution_count": 47,
   "metadata": {},
   "outputs": [
    {
     "data": {
      "text/plain": [
       "(727, 1340, 576, 2616)"
      ]
     },
     "execution_count": 47,
     "metadata": {},
     "output_type": "execute_result"
    }
   ],
   "source": [
    "tn, fp, fn, tp = cfn_matrix.ravel()\n",
    "(tn, fp, fn, tp)"
   ]
  },
  {
   "cell_type": "code",
   "execution_count": 48,
   "metadata": {},
   "outputs": [
    {
     "data": {
      "text/plain": [
       "0.6373907050250729"
      ]
     },
     "execution_count": 48,
     "metadata": {},
     "output_type": "execute_result"
    }
   ],
   "source": [
    "from sklearn.metrics import log_loss\n",
    "y1_prob = logreg_cv.predict_proba(x1_test)\n",
    "\n",
    "log_loss(y1_test, y1_prob)"
   ]
  },
  {
   "cell_type": "code",
   "execution_count": 49,
   "metadata": {},
   "outputs": [
    {
     "data": {
      "text/plain": [
       "0.6464043514688996"
      ]
     },
     "execution_count": 49,
     "metadata": {},
     "output_type": "execute_result"
    }
   ],
   "source": [
    "from sklearn.metrics import auc, roc_curve\n",
    "\n",
    "fpr, tpr, thresholds = roc_curve(y1_test, y1_prob[:,1], pos_label=1) \n",
    "AUC = auc(fpr, tpr)\n",
    "\n",
    "AUC"
   ]
  },
  {
   "cell_type": "markdown",
   "metadata": {},
   "source": [
    "### Our first run through did not yield exceptional results, with a notable weakness on recall\n",
    "We will now see if we can improve our model through more refined feature selection/engineering"
   ]
  },
  {
   "cell_type": "markdown",
   "metadata": {},
   "source": [
    "# Part 2 \n",
    "## Improving Feature Selection/Engineering With Exponential Moving Average\n",
    "Assuming that more recent games are more important, let's improve our features by applying a moving average that weights recent games higher\n",
    "\n",
    "We are going to apply the same 'pipeline' that I used earlier with this new MVA technique"
   ]
  },
  {
   "cell_type": "code",
   "execution_count": 50,
   "metadata": {},
   "outputs": [],
   "source": [
    "roll_exp = game_gp.copy()"
   ]
  },
  {
   "cell_type": "code",
   "execution_count": 51,
   "metadata": {},
   "outputs": [],
   "source": [
    "#Apply Exponential Moving average to each team\n",
    "#Tried multiple Spans and arrived at 50 as the best... in Future make this process a pipeline to iterate through more options\n",
    "for i in tnames:\n",
    "    roll_exp.loc[roll_exp['TEAM_ABBREVIATION'] == i,'FGM':'PLUS_MINUS'] = roll_exp.loc[roll_exp['TEAM_ABBREVIATION'] == i,'FGM':'PLUS_MINUS'].ewm(span=50,adjust=False).mean().shift(1)"
   ]
  },
  {
   "cell_type": "code",
   "execution_count": 52,
   "metadata": {},
   "outputs": [],
   "source": [
    "#Split teams into home and away so we can have stats in one row\n",
    "roll_exp_home = roll_exp.loc[roll_exp['TEAM_ABBREVIATION']==roll_exp['ABV_HOME']]\n",
    "roll_exp_away = roll_exp.loc[roll_exp['TEAM_ABBREVIATION']!=roll_exp['ABV_HOME']]"
   ]
  },
  {
   "cell_type": "code",
   "execution_count": 53,
   "metadata": {},
   "outputs": [],
   "source": [
    "roll_exp_fin = roll_exp_home.merge(roll_exp_away, on = 'GAME_ID',suffixes=('_home','_away'))"
   ]
  },
  {
   "cell_type": "code",
   "execution_count": 54,
   "metadata": {},
   "outputs": [],
   "source": [
    "roll_exp_fin.drop(columns = ['HOME_TEAM_WINS_home','WIN_home','TEAM_ID_away','TEAM_ABBREVIATION_away','ABV_HOME_away','WIN_away'],inplace=True)\n",
    "\n",
    "roll_exp_fin.rename(columns={'HOME_TEAM_WINS_away':'HOME_TEAM_WINS'}, inplace=True)"
   ]
  },
  {
   "cell_type": "code",
   "execution_count": 55,
   "metadata": {},
   "outputs": [
    {
     "data": {
      "text/html": [
       "<div>\n",
       "<style scoped>\n",
       "    .dataframe tbody tr th:only-of-type {\n",
       "        vertical-align: middle;\n",
       "    }\n",
       "\n",
       "    .dataframe tbody tr th {\n",
       "        vertical-align: top;\n",
       "    }\n",
       "\n",
       "    .dataframe thead th {\n",
       "        text-align: right;\n",
       "    }\n",
       "</style>\n",
       "<table border=\"1\" class=\"dataframe\">\n",
       "  <thead>\n",
       "    <tr style=\"text-align: right;\">\n",
       "      <th></th>\n",
       "      <th>GAME_ID</th>\n",
       "      <th>TEAM_ID_home</th>\n",
       "      <th>TEAM_ABBREVIATION_home</th>\n",
       "      <th>ABV_HOME_home</th>\n",
       "      <th>FGM_home</th>\n",
       "      <th>FGA_home</th>\n",
       "      <th>FG_PCT_home</th>\n",
       "      <th>FG3M_home</th>\n",
       "      <th>FG3A_home</th>\n",
       "      <th>FG3_PCT_home</th>\n",
       "      <th>...</th>\n",
       "      <th>OREB_away</th>\n",
       "      <th>DREB_away</th>\n",
       "      <th>REB_away</th>\n",
       "      <th>AST_away</th>\n",
       "      <th>STL_away</th>\n",
       "      <th>BLK_away</th>\n",
       "      <th>PF_away</th>\n",
       "      <th>PTS_away</th>\n",
       "      <th>PLUS_MINUS_away</th>\n",
       "      <th>HOME_TEAM_WINS</th>\n",
       "    </tr>\n",
       "  </thead>\n",
       "  <tbody>\n",
       "    <tr>\n",
       "      <th>100</th>\n",
       "      <td>11400112</td>\n",
       "      <td>1610612763</td>\n",
       "      <td>MEM</td>\n",
       "      <td>MEM</td>\n",
       "      <td>32.583757</td>\n",
       "      <td>78.193660</td>\n",
       "      <td>7.807539</td>\n",
       "      <td>3.481417</td>\n",
       "      <td>12.927759</td>\n",
       "      <td>1.212630</td>\n",
       "      <td>...</td>\n",
       "      <td>9.880251</td>\n",
       "      <td>31.424910</td>\n",
       "      <td>41.305161</td>\n",
       "      <td>18.546474</td>\n",
       "      <td>11.255160</td>\n",
       "      <td>3.274089</td>\n",
       "      <td>18.467061</td>\n",
       "      <td>90.324231</td>\n",
       "      <td>-47.051980</td>\n",
       "      <td>0</td>\n",
       "    </tr>\n",
       "    <tr>\n",
       "      <th>101</th>\n",
       "      <td>11400113</td>\n",
       "      <td>1610612745</td>\n",
       "      <td>HOU</td>\n",
       "      <td>HOU</td>\n",
       "      <td>35.231027</td>\n",
       "      <td>78.810418</td>\n",
       "      <td>5.815884</td>\n",
       "      <td>9.817842</td>\n",
       "      <td>26.525117</td>\n",
       "      <td>2.635790</td>\n",
       "      <td>...</td>\n",
       "      <td>7.327280</td>\n",
       "      <td>33.692486</td>\n",
       "      <td>41.019766</td>\n",
       "      <td>20.600191</td>\n",
       "      <td>8.746538</td>\n",
       "      <td>1.453792</td>\n",
       "      <td>19.345184</td>\n",
       "      <td>91.921116</td>\n",
       "      <td>-138.655532</td>\n",
       "      <td>1</td>\n",
       "    </tr>\n",
       "    <tr>\n",
       "      <th>102</th>\n",
       "      <td>11400114</td>\n",
       "      <td>1610612762</td>\n",
       "      <td>UTA</td>\n",
       "      <td>UTA</td>\n",
       "      <td>34.649268</td>\n",
       "      <td>77.081863</td>\n",
       "      <td>5.867370</td>\n",
       "      <td>7.168285</td>\n",
       "      <td>15.592139</td>\n",
       "      <td>2.703557</td>\n",
       "      <td>...</td>\n",
       "      <td>11.473687</td>\n",
       "      <td>34.930673</td>\n",
       "      <td>46.404359</td>\n",
       "      <td>16.699804</td>\n",
       "      <td>7.541700</td>\n",
       "      <td>2.291314</td>\n",
       "      <td>21.763923</td>\n",
       "      <td>98.649151</td>\n",
       "      <td>39.716453</td>\n",
       "      <td>0</td>\n",
       "    </tr>\n",
       "    <tr>\n",
       "      <th>103</th>\n",
       "      <td>11400115</td>\n",
       "      <td>1610612747</td>\n",
       "      <td>LAL</td>\n",
       "      <td>LAL</td>\n",
       "      <td>38.342807</td>\n",
       "      <td>85.990489</td>\n",
       "      <td>5.080418</td>\n",
       "      <td>4.415957</td>\n",
       "      <td>9.922814</td>\n",
       "      <td>2.382571</td>\n",
       "      <td>...</td>\n",
       "      <td>12.514262</td>\n",
       "      <td>31.772279</td>\n",
       "      <td>44.286541</td>\n",
       "      <td>18.185610</td>\n",
       "      <td>6.407423</td>\n",
       "      <td>4.216016</td>\n",
       "      <td>26.579791</td>\n",
       "      <td>95.759701</td>\n",
       "      <td>-24.081038</td>\n",
       "      <td>0</td>\n",
       "    </tr>\n",
       "    <tr>\n",
       "      <th>104</th>\n",
       "      <td>11400116</td>\n",
       "      <td>1610612761</td>\n",
       "      <td>TOR</td>\n",
       "      <td>TOR</td>\n",
       "      <td>33.665111</td>\n",
       "      <td>75.727389</td>\n",
       "      <td>6.169556</td>\n",
       "      <td>6.459998</td>\n",
       "      <td>19.090644</td>\n",
       "      <td>3.725710</td>\n",
       "      <td>...</td>\n",
       "      <td>8.524365</td>\n",
       "      <td>30.527166</td>\n",
       "      <td>39.051531</td>\n",
       "      <td>20.276649</td>\n",
       "      <td>7.387307</td>\n",
       "      <td>5.572178</td>\n",
       "      <td>23.307329</td>\n",
       "      <td>87.371861</td>\n",
       "      <td>-80.660886</td>\n",
       "      <td>1</td>\n",
       "    </tr>\n",
       "  </tbody>\n",
       "</table>\n",
       "<p>5 rows × 39 columns</p>\n",
       "</div>"
      ],
      "text/plain": [
       "      GAME_ID  TEAM_ID_home TEAM_ABBREVIATION_home ABV_HOME_home   FGM_home  \\\n",
       "100  11400112    1610612763                    MEM           MEM  32.583757   \n",
       "101  11400113    1610612745                    HOU           HOU  35.231027   \n",
       "102  11400114    1610612762                    UTA           UTA  34.649268   \n",
       "103  11400115    1610612747                    LAL           LAL  38.342807   \n",
       "104  11400116    1610612761                    TOR           TOR  33.665111   \n",
       "\n",
       "      FGA_home  FG_PCT_home  FG3M_home  FG3A_home  FG3_PCT_home  ...  \\\n",
       "100  78.193660     7.807539   3.481417  12.927759      1.212630  ...   \n",
       "101  78.810418     5.815884   9.817842  26.525117      2.635790  ...   \n",
       "102  77.081863     5.867370   7.168285  15.592139      2.703557  ...   \n",
       "103  85.990489     5.080418   4.415957   9.922814      2.382571  ...   \n",
       "104  75.727389     6.169556   6.459998  19.090644      3.725710  ...   \n",
       "\n",
       "     OREB_away  DREB_away   REB_away   AST_away   STL_away  BLK_away  \\\n",
       "100   9.880251  31.424910  41.305161  18.546474  11.255160  3.274089   \n",
       "101   7.327280  33.692486  41.019766  20.600191   8.746538  1.453792   \n",
       "102  11.473687  34.930673  46.404359  16.699804   7.541700  2.291314   \n",
       "103  12.514262  31.772279  44.286541  18.185610   6.407423  4.216016   \n",
       "104   8.524365  30.527166  39.051531  20.276649   7.387307  5.572178   \n",
       "\n",
       "       PF_away   PTS_away  PLUS_MINUS_away  HOME_TEAM_WINS  \n",
       "100  18.467061  90.324231       -47.051980               0  \n",
       "101  19.345184  91.921116      -138.655532               1  \n",
       "102  21.763923  98.649151        39.716453               0  \n",
       "103  26.579791  95.759701       -24.081038               0  \n",
       "104  23.307329  87.371861       -80.660886               1  \n",
       "\n",
       "[5 rows x 39 columns]"
      ]
     },
     "execution_count": 55,
     "metadata": {},
     "output_type": "execute_result"
    }
   ],
   "source": [
    "roll_exp_fin.iloc[100:105]"
   ]
  },
  {
   "cell_type": "code",
   "execution_count": 56,
   "metadata": {},
   "outputs": [],
   "source": [
    "roll_exp_fin.dropna(inplace=True)\n",
    "\n",
    "#Let's select our best features before we go any further\n",
    "from sklearn.feature_selection import SelectKBest\n",
    "from sklearn.feature_selection import f_classif\n",
    "\n",
    "x = roll_exp_fin.loc[:,'FGM_home':'PLUS_MINUS_away']\n",
    "y = roll_exp_fin['HOME_TEAM_WINS']\n",
    "\n",
    "fvalue_selector = SelectKBest(f_classif, k=24)\n",
    "\n",
    "fvalue_selector.fit(x, y)\n",
    "\n",
    "dfscores = pd.DataFrame(fvalue_selector.scores_)\n",
    "dfcolumns = pd.DataFrame(x.columns)"
   ]
  },
  {
   "cell_type": "code",
   "execution_count": 57,
   "metadata": {},
   "outputs": [
    {
     "name": "stdout",
     "output_type": "stream",
     "text": [
      "              Specs        Score\n",
      "16  PLUS_MINUS_home  1489.171799\n",
      "33  PLUS_MINUS_away  1136.154977\n",
      "13         BLK_home   193.254133\n",
      "28         AST_away   166.654519\n",
      "26        DREB_away   164.755032\n",
      "32         PTS_away   160.569120\n",
      "15         PTS_home   134.662518\n",
      "11         AST_home   129.492756\n",
      "20        FG3M_away   126.227513\n",
      "19      FG_PCT_away   121.302088\n",
      "22     FG3_PCT_away   100.449344\n",
      "30         BLK_away    99.546980\n",
      "17         FGM_away    97.624610\n",
      "27         REB_away    90.483643\n",
      "21        FG3A_away    78.227839\n",
      "0          FGM_home    78.141480\n",
      "9         DREB_home    71.632781\n",
      "2       FG_PCT_home    69.936661\n",
      "6          FTM_home    67.704846\n",
      "10         REB_home    46.948773\n",
      "31          PF_away    46.541280\n",
      "14          PF_home    44.863859\n",
      "7          FTA_home    40.081021\n",
      "1          FGA_home    40.059548\n"
     ]
    }
   ],
   "source": [
    "#concat two dataframes for better visualization \n",
    "featureScores = pd.concat([dfcolumns,dfscores],axis=1)\n",
    "featureScores.columns = ['Specs','Score']  \n",
    "print(featureScores.nlargest(24,'Score')) "
   ]
  },
  {
   "cell_type": "code",
   "execution_count": 58,
   "metadata": {},
   "outputs": [],
   "source": [
    "x2 = roll_exp_fin[cols] #Use same columns as last time\n",
    "y2 = roll_exp_fin['HOME_TEAM_WINS']\n",
    "\n",
    "#Scalde data as we will be testing many models, some of which require scaled data\n",
    "x2_scale=StandardScaler().fit_transform(x2)\n",
    "\n",
    "x2_train, x2_test, y2_train, y2_test = train_test_split(x2_scale,y2)"
   ]
  },
  {
   "cell_type": "code",
   "execution_count": 59,
   "metadata": {},
   "outputs": [
    {
     "data": {
      "text/plain": [
       "0.6648339588291653"
      ]
     },
     "execution_count": 59,
     "metadata": {},
     "output_type": "execute_result"
    }
   ],
   "source": [
    "cross_val_score(LogisticRegression(), x2_scale, y2).mean()"
   ]
  },
  {
   "cell_type": "code",
   "execution_count": 60,
   "metadata": {},
   "outputs": [
    {
     "name": "stdout",
     "output_type": "stream",
     "text": [
      "tuned hpyerparameters:  {'C': 0.01, 'penalty': 'l1', 'solver': 'liblinear'}\n",
      "accuracy : 0.6679297381537057\n"
     ]
    }
   ],
   "source": [
    "params={'C':np.logspace(-3,3,7), 'penalty':['l1','l2'],'solver' : ['liblinear']} # l1 lasso, l2 ridge\n",
    "logreg1 = LogisticRegression()\n",
    "\n",
    "logreg_cv1=GridSearchCV(logreg1,params)\n",
    "logreg_cv1.fit(x2_train,y2_train)\n",
    "\n",
    "print(\"tuned hpyerparameters: \",logreg_cv1.best_params_)\n",
    "print(\"accuracy :\",logreg_cv1.best_score_)"
   ]
  },
  {
   "cell_type": "code",
   "execution_count": 61,
   "metadata": {},
   "outputs": [
    {
     "name": "stdout",
     "output_type": "stream",
     "text": [
      "              precision    recall  f1-score   support\n",
      "\n",
      "           0       0.61      0.42      0.50      2140\n",
      "           1       0.67      0.82      0.74      3138\n",
      "\n",
      "    accuracy                           0.66      5278\n",
      "   macro avg       0.64      0.62      0.62      5278\n",
      "weighted avg       0.65      0.66      0.64      5278\n",
      "\n"
     ]
    },
    {
     "data": {
      "image/png": "[encoded data removed]",
      "text/plain": [
       "<Figure size 432x288 with 2 Axes>"
      ]
     },
     "metadata": {},
     "output_type": "display_data"
    }
   ],
   "source": [
    "from sklearn.metrics import classification_report, confusion_matrix\n",
    "\n",
    "\n",
    "y2_pred = logreg_cv1.predict(x2_test)\n",
    "\n",
    "cfn_matrix1 = confusion_matrix(y2_test, y2_pred, labels = [0,1])\n",
    "cfn_report1 = classification_report(y2_test, y2_pred)\n",
    "\n",
    "sns.heatmap(cfn_matrix1, annot=True, fmt = 'd', cmap=\"Blues\").set_title('Confusion Matrix Heatmap')\n",
    "plt.ylabel('Actual Values')\n",
    "plt.xlabel('Predicted Values')\n",
    "\n",
    "print(cfn_report1)"
   ]
  },
  {
   "cell_type": "code",
   "execution_count": 62,
   "metadata": {},
   "outputs": [
    {
     "data": {
      "text/plain": [
       "(727, 1340, 576, 2616)"
      ]
     },
     "execution_count": 62,
     "metadata": {},
     "output_type": "execute_result"
    }
   ],
   "source": [
    "tn1, fp1, fn1, tp1 = cfn_matrix.ravel()\n",
    "(tn, fp, fn, tp)"
   ]
  },
  {
   "cell_type": "code",
   "execution_count": 63,
   "metadata": {},
   "outputs": [
    {
     "data": {
      "text/plain": [
       "0.6158515823196187"
      ]
     },
     "execution_count": 63,
     "metadata": {},
     "output_type": "execute_result"
    }
   ],
   "source": [
    "from sklearn.metrics import log_loss\n",
    "y2_prob = logreg_cv1.predict_proba(x2_test)\n",
    "\n",
    "log_loss(y2_test, y2_prob)"
   ]
  },
  {
   "cell_type": "code",
   "execution_count": 64,
   "metadata": {},
   "outputs": [
    {
     "data": {
      "text/plain": [
       "0.6998016475759905"
      ]
     },
     "execution_count": 64,
     "metadata": {},
     "output_type": "execute_result"
    }
   ],
   "source": [
    "from sklearn.metrics import auc, roc_curve\n",
    "\n",
    "fpr, tpr, thresholds = roc_curve(y2_test, y2_prob[:,1], pos_label=1) \n",
    "AUC = auc(fpr, tpr)\n",
    "\n",
    "AUC"
   ]
  },
  {
   "cell_type": "markdown",
   "metadata": {},
   "source": [
    "Our model has improved significantly\n",
    "- Accuracy improved by ~3%\n",
    "- Log_loss decrease of ~ -0.02\n",
    "- AUC increase of ~ 0.04\n",
    "- Marginal Improvement in both Precision and Recall"
   ]
  }
 ],
 "metadata": {
  "kernelspec": {
   "display_name": "Python 3",
   "language": "python",
   "name": "python3"
  },
  "language_info": {
   "codemirror_mode": {
    "name": "ipython",
    "version": 3
   },
   "file_extension": ".py",
   "mimetype": "text/x-python",
   "name": "python",
   "nbconvert_exporter": "python",
   "pygments_lexer": "ipython3",
   "version": "3.7.6"
  }
 },
 "nbformat": 4,
 "nbformat_minor": 4
}
